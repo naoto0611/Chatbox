{
  "nbformat": 4,
  "nbformat_minor": 0,
  "metadata": {
    "colab": {
      "name": "chatbot_Nhan.ipynb",
      "provenance": [],
      "collapsed_sections": []
    },
    "kernelspec": {
      "name": "python3",
      "display_name": "Python 3"
    },
    "language_info": {
      "name": "python"
    },
    "accelerator": "GPU"
  },
  "cells": [
    {
      "cell_type": "markdown",
      "source": [
        "## Câu 1: \n",
        "\n",
        "a. Dùng BLEU score.\n",
        "\n",
        "b. Dùng W2V và sử dụng Euclid"
      ],
      "metadata": {
        "id": "cqwr-0RaWJ-_"
      }
    },
    {
      "cell_type": "code",
      "execution_count": 17,
      "metadata": {
        "colab": {
          "base_uri": "https://localhost:8080/"
        },
        "id": "JrvpVa9kSAXK",
        "outputId": "6d05d5f6-4241-4f59-d58a-ac9b61f85097"
      },
      "outputs": [
        {
          "output_type": "stream",
          "name": "stdout",
          "text": [
            "[Errno 2] No such file or directory: '/content/drive/MyDrive/Full_source/NhanTruong'\n",
            "/content\n"
          ]
        }
      ],
      "source": [
        "%cd /content/drive/MyDrive/Full_source/NhanTruong"
      ]
    },
    {
      "cell_type": "code",
      "source": [
        "# import thư viện\n",
        "import os\n",
        "import pandas as pd\n",
        "import numpy as np\n",
        "import json\n",
        "\n",
        "root_path = '/content/drive/MyDrive/NhanTruong'"
      ],
      "metadata": {
        "id": "PMtgqVTjSv8f"
      },
      "execution_count": 18,
      "outputs": []
    },
    {
      "cell_type": "code",
      "source": [
        "from google.colab import drive\n",
        "drive.mount('/content/drive')"
      ],
      "metadata": {
        "colab": {
          "base_uri": "https://localhost:8080/"
        },
        "id": "LiUCCcK3tpFR",
        "outputId": "1355b27a-2654-4e1a-c7f8-f8a8140d0dac"
      },
      "execution_count": 19,
      "outputs": [
        {
          "output_type": "stream",
          "name": "stdout",
          "text": [
            "Drive already mounted at /content/drive; to attempt to forcibly remount, call drive.mount(\"/content/drive\", force_remount=True).\n"
          ]
        }
      ]
    },
    {
      "cell_type": "code",
      "source": [
        "# đường dẫn data\n",
        "csv_path = os.path.join(root_path, 'dữ-liệu-chatbot-question-answer-short-style.csv')"
      ],
      "metadata": {
        "id": "PP3GhdYMSXFT"
      },
      "execution_count": 20,
      "outputs": []
    },
    {
      "cell_type": "code",
      "source": [
        "# mở file csv\n",
        "csv_raw_data = pd.read_csv(csv_path)"
      ],
      "metadata": {
        "id": "mQstVbHeTALk"
      },
      "execution_count": 21,
      "outputs": []
    },
    {
      "cell_type": "code",
      "source": [
        "# Show 05 dòng đầu tiên\n",
        "csv_raw_data.head()"
      ],
      "metadata": {
        "colab": {
          "base_uri": "https://localhost:8080/",
          "height": 206
        },
        "id": "lmublCPPTHYK",
        "outputId": "101e430a-fc75-4640-e01f-b1912c5a6d67"
      },
      "execution_count": 22,
      "outputs": [
        {
          "output_type": "execute_result",
          "data": {
            "text/plain": [
              "   Unnamed: 0                             user_a  \\\n",
              "0           0                Thích mẫu người nào   \n",
              "1           1                  Có crush ai không   \n",
              "2           2           Tại sao lại thích bạn dó   \n",
              "3           3            Có hay nói chuyện không   \n",
              "4           4  Bạn kia có bắt chuyện trước không   \n",
              "\n",
              "                             user_b  \n",
              "0      Dễ thương, tóc dài, da trắng  \n",
              "1                 Có 1 bạn cùng lớp  \n",
              "2  Vì đáp ứng những yêu cầu của tao  \n",
              "3            Hay nhắn tin messenger  \n",
              "4                        Có đôi khi  "
            ],
            "text/html": [
              "\n",
              "  <div id=\"df-1a4b2247-284f-43f7-a2a0-a6172cb3144a\">\n",
              "    <div class=\"colab-df-container\">\n",
              "      <div>\n",
              "<style scoped>\n",
              "    .dataframe tbody tr th:only-of-type {\n",
              "        vertical-align: middle;\n",
              "    }\n",
              "\n",
              "    .dataframe tbody tr th {\n",
              "        vertical-align: top;\n",
              "    }\n",
              "\n",
              "    .dataframe thead th {\n",
              "        text-align: right;\n",
              "    }\n",
              "</style>\n",
              "<table border=\"1\" class=\"dataframe\">\n",
              "  <thead>\n",
              "    <tr style=\"text-align: right;\">\n",
              "      <th></th>\n",
              "      <th>Unnamed: 0</th>\n",
              "      <th>user_a</th>\n",
              "      <th>user_b</th>\n",
              "    </tr>\n",
              "  </thead>\n",
              "  <tbody>\n",
              "    <tr>\n",
              "      <th>0</th>\n",
              "      <td>0</td>\n",
              "      <td>Thích mẫu người nào</td>\n",
              "      <td>Dễ thương, tóc dài, da trắng</td>\n",
              "    </tr>\n",
              "    <tr>\n",
              "      <th>1</th>\n",
              "      <td>1</td>\n",
              "      <td>Có crush ai không</td>\n",
              "      <td>Có 1 bạn cùng lớp</td>\n",
              "    </tr>\n",
              "    <tr>\n",
              "      <th>2</th>\n",
              "      <td>2</td>\n",
              "      <td>Tại sao lại thích bạn dó</td>\n",
              "      <td>Vì đáp ứng những yêu cầu của tao</td>\n",
              "    </tr>\n",
              "    <tr>\n",
              "      <th>3</th>\n",
              "      <td>3</td>\n",
              "      <td>Có hay nói chuyện không</td>\n",
              "      <td>Hay nhắn tin messenger</td>\n",
              "    </tr>\n",
              "    <tr>\n",
              "      <th>4</th>\n",
              "      <td>4</td>\n",
              "      <td>Bạn kia có bắt chuyện trước không</td>\n",
              "      <td>Có đôi khi</td>\n",
              "    </tr>\n",
              "  </tbody>\n",
              "</table>\n",
              "</div>\n",
              "      <button class=\"colab-df-convert\" onclick=\"convertToInteractive('df-1a4b2247-284f-43f7-a2a0-a6172cb3144a')\"\n",
              "              title=\"Convert this dataframe to an interactive table.\"\n",
              "              style=\"display:none;\">\n",
              "        \n",
              "  <svg xmlns=\"http://www.w3.org/2000/svg\" height=\"24px\"viewBox=\"0 0 24 24\"\n",
              "       width=\"24px\">\n",
              "    <path d=\"M0 0h24v24H0V0z\" fill=\"none\"/>\n",
              "    <path d=\"M18.56 5.44l.94 2.06.94-2.06 2.06-.94-2.06-.94-.94-2.06-.94 2.06-2.06.94zm-11 1L8.5 8.5l.94-2.06 2.06-.94-2.06-.94L8.5 2.5l-.94 2.06-2.06.94zm10 10l.94 2.06.94-2.06 2.06-.94-2.06-.94-.94-2.06-.94 2.06-2.06.94z\"/><path d=\"M17.41 7.96l-1.37-1.37c-.4-.4-.92-.59-1.43-.59-.52 0-1.04.2-1.43.59L10.3 9.45l-7.72 7.72c-.78.78-.78 2.05 0 2.83L4 21.41c.39.39.9.59 1.41.59.51 0 1.02-.2 1.41-.59l7.78-7.78 2.81-2.81c.8-.78.8-2.07 0-2.86zM5.41 20L4 18.59l7.72-7.72 1.47 1.35L5.41 20z\"/>\n",
              "  </svg>\n",
              "      </button>\n",
              "      \n",
              "  <style>\n",
              "    .colab-df-container {\n",
              "      display:flex;\n",
              "      flex-wrap:wrap;\n",
              "      gap: 12px;\n",
              "    }\n",
              "\n",
              "    .colab-df-convert {\n",
              "      background-color: #E8F0FE;\n",
              "      border: none;\n",
              "      border-radius: 50%;\n",
              "      cursor: pointer;\n",
              "      display: none;\n",
              "      fill: #1967D2;\n",
              "      height: 32px;\n",
              "      padding: 0 0 0 0;\n",
              "      width: 32px;\n",
              "    }\n",
              "\n",
              "    .colab-df-convert:hover {\n",
              "      background-color: #E2EBFA;\n",
              "      box-shadow: 0px 1px 2px rgba(60, 64, 67, 0.3), 0px 1px 3px 1px rgba(60, 64, 67, 0.15);\n",
              "      fill: #174EA6;\n",
              "    }\n",
              "\n",
              "    [theme=dark] .colab-df-convert {\n",
              "      background-color: #3B4455;\n",
              "      fill: #D2E3FC;\n",
              "    }\n",
              "\n",
              "    [theme=dark] .colab-df-convert:hover {\n",
              "      background-color: #434B5C;\n",
              "      box-shadow: 0px 1px 3px 1px rgba(0, 0, 0, 0.15);\n",
              "      filter: drop-shadow(0px 1px 2px rgba(0, 0, 0, 0.3));\n",
              "      fill: #FFFFFF;\n",
              "    }\n",
              "  </style>\n",
              "\n",
              "      <script>\n",
              "        const buttonEl =\n",
              "          document.querySelector('#df-1a4b2247-284f-43f7-a2a0-a6172cb3144a button.colab-df-convert');\n",
              "        buttonEl.style.display =\n",
              "          google.colab.kernel.accessAllowed ? 'block' : 'none';\n",
              "\n",
              "        async function convertToInteractive(key) {\n",
              "          const element = document.querySelector('#df-1a4b2247-284f-43f7-a2a0-a6172cb3144a');\n",
              "          const dataTable =\n",
              "            await google.colab.kernel.invokeFunction('convertToInteractive',\n",
              "                                                     [key], {});\n",
              "          if (!dataTable) return;\n",
              "\n",
              "          const docLinkHtml = 'Like what you see? Visit the ' +\n",
              "            '<a target=\"_blank\" href=https://colab.research.google.com/notebooks/data_table.ipynb>data table notebook</a>'\n",
              "            + ' to learn more about interactive tables.';\n",
              "          element.innerHTML = '';\n",
              "          dataTable['output_type'] = 'display_data';\n",
              "          await google.colab.output.renderOutput(dataTable, element);\n",
              "          const docLink = document.createElement('div');\n",
              "          docLink.innerHTML = docLinkHtml;\n",
              "          element.appendChild(docLink);\n",
              "        }\n",
              "      </script>\n",
              "    </div>\n",
              "  </div>\n",
              "  "
            ]
          },
          "metadata": {},
          "execution_count": 22
        }
      ]
    },
    {
      "cell_type": "code",
      "source": [
        "# chuẩn bị 2 list: user_a và user_b\n",
        "user_a = list(csv_raw_data['user_a'].values)\n",
        "user_b = list(csv_raw_data['user_b'].values)"
      ],
      "metadata": {
        "id": "vfzG7Xp1TNS_"
      },
      "execution_count": 23,
      "outputs": []
    },
    {
      "cell_type": "code",
      "source": [
        "# chuẩn bị 1 hàm chuẩn hóa (xóa dấu, ký tự lạ, ...)\n",
        "def remove_punc(string):\n",
        "    punctuations = '''!()-[]{};:'\"\\,<>./?@#$%^&*_~'''\n",
        "    no_punct = \"\"\n",
        "    for char in string:\n",
        "        if char not in punctuations:\n",
        "            no_punct = no_punct + char  # space is also a character\n",
        "    return no_punct.lower()"
      ],
      "metadata": {
        "id": "0ElcBC1jT1WI"
      },
      "execution_count": 24,
      "outputs": []
    },
    {
      "cell_type": "code",
      "source": [
        "# chuẩn hóa dữ liệu (xóa dấu, ký tự lạ, ...)\n",
        "normalized_user_a = [remove_punc(sentence) for sentence in user_a]\n",
        "# normalized_user_b = [remove_punc(str(sentence)) for sentence in user_b]"
      ],
      "metadata": {
        "id": "QQR6n_ZsUasO"
      },
      "execution_count": 25,
      "outputs": []
    },
    {
      "cell_type": "code",
      "source": [
        "# hàm so chuỗi BLEU4 của câu đầu vào với tập dữ liệu D.\n",
        "from nltk.translate.bleu_score import sentence_bleu\n",
        "\n",
        "def return_best_idx(input_seq, corpus):\n",
        "    '''\n",
        "    Đầu vào:\n",
        "        input_seq: chuỗi văn bản đầu vào.\n",
        "        corpus: tập dữ liệu câu hỏi D.\n",
        "    Đầu ra:\n",
        "        best_match_idx: vị trí câu có điểm BLEU cao nhất so với chuỗi đầu vào.\n",
        "    '''\n",
        "    thresholds = np.array([sentence_bleu([seq.split(' ')], input_seq.split(' ')) for seq in normalized_user_a])\n",
        "    best_match_idx = np.argmax(thresholds)\n",
        "    return thresholds, best_match_idx"
      ],
      "metadata": {
        "id": "UZW_1-EUVj67"
      },
      "execution_count": 26,
      "outputs": []
    },
    {
      "cell_type": "code",
      "source": [
        "# a) Hỏi đáp dựa trên độ đo BLEU:\n",
        "\n",
        "while 1:\n",
        "    print('Nhập câu hỏi:')\n",
        "    input_seq = input()\n",
        "    input_seq = remove_punc(input_seq)\n",
        "    thresholds, best_idx = return_best_idx(input_seq, normalized_user_a)\n",
        "    answer = user_b[best_idx]\n",
        "    print('Câu trả lời:', answer)"
      ],
      "metadata": {
        "id": "kWsvOnZ_X3uo",
        "colab": {
          "base_uri": "https://localhost:8080/"
        },
        "outputId": "83f46407-161e-4c42-b614-8d3df59b4ffd"
      },
      "execution_count": null,
      "outputs": [
        {
          "metadata": {
            "tags": null
          },
          "name": "stdout",
          "output_type": "stream",
          "text": [
            "Nhập câu hỏi:\n"
          ]
        },
        {
          "metadata": {
            "tags": null
          },
          "name": "stderr",
          "output_type": "stream",
          "text": [
            "/usr/local/lib/python3.7/dist-packages/nltk/translate/bleu_score.py:490: UserWarning: \n",
            "Corpus/Sentence contains 0 counts of 2-gram overlaps.\n",
            "BLEU scores might be undesirable; use SmoothingFunction().\n",
            "  warnings.warn(_msg)\n",
            "/usr/local/lib/python3.7/dist-packages/nltk/translate/bleu_score.py:490: UserWarning: \n",
            "Corpus/Sentence contains 0 counts of 3-gram overlaps.\n",
            "BLEU scores might be undesirable; use SmoothingFunction().\n",
            "  warnings.warn(_msg)\n",
            "/usr/local/lib/python3.7/dist-packages/nltk/translate/bleu_score.py:490: UserWarning: \n",
            "Corpus/Sentence contains 0 counts of 4-gram overlaps.\n",
            "BLEU scores might be undesirable; use SmoothingFunction().\n",
            "  warnings.warn(_msg)\n"
          ]
        },
        {
          "output_type": "stream",
          "name": "stdout",
          "text": [
            "Câu trả lời: Có 1 bạn cùng lớp\n",
            "Nhập câu hỏi:\n",
            "off\n",
            "Câu trả lời: Dễ thương, tóc dài, da trắng\n",
            "Nhập câu hỏi:\n"
          ]
        }
      ]
    },
    {
      "cell_type": "code",
      "source": [
        "# Chuẩn bị pre-trained model W2V và word dict\n",
        "!gdown --id 15VJpsF9idf2e3AyqU_NIPsP-uyE7Z_Eq"
      ],
      "metadata": {
        "id": "bzDBwqMQbMRs",
        "colab": {
          "base_uri": "https://localhost:8080/"
        },
        "outputId": "1326396c-7d9f-4578-bafc-97293d753803"
      },
      "execution_count": 27,
      "outputs": [
        {
          "output_type": "stream",
          "name": "stdout",
          "text": [
            "/usr/local/lib/python3.7/dist-packages/gdown/cli.py:131: FutureWarning: Option `--id` was deprecated in version 4.3.1 and will be removed in 5.0. You don't need to pass it anymore to use a file ID.\n",
            "  category=FutureWarning,\n",
            "Downloading...\n",
            "From: https://drive.google.com/uc?id=15VJpsF9idf2e3AyqU_NIPsP-uyE7Z_Eq\n",
            "To: /content/Combined_PhoW2V_400d_embedding_matrix.npy\n",
            "100% 3.13G/3.13G [00:16<00:00, 187MB/s]\n"
          ]
        }
      ]
    },
    {
      "cell_type": "code",
      "source": [
        "!gdown --id 16Ub2aE0zGBjuCGJ9_73xK51a-yL9JY8V"
      ],
      "metadata": {
        "colab": {
          "base_uri": "https://localhost:8080/"
        },
        "id": "4BIRr2GGe1eh",
        "outputId": "74bd0a9a-2f6a-49ce-d996-b4b7d34765c2"
      },
      "execution_count": 12,
      "outputs": [
        {
          "output_type": "stream",
          "name": "stdout",
          "text": [
            "/usr/local/lib/python3.7/dist-packages/gdown/cli.py:131: FutureWarning: Option `--id` was deprecated in version 4.3.1 and will be removed in 5.0. You don't need to pass it anymore to use a file ID.\n",
            "  category=FutureWarning,\n",
            "Downloading...\n",
            "From: https://drive.google.com/uc?id=16Ub2aE0zGBjuCGJ9_73xK51a-yL9JY8V\n",
            "To: /content/word_dict.json\n",
            "100% 11.3M/11.3M [00:00<00:00, 25.2MB/s]\n"
          ]
        }
      ]
    },
    {
      "cell_type": "code",
      "source": [
        "# load ma trận W2V\n",
        "w2v_matrix = np.load('Combined_PhoW2V_400d_embedding_matrix.npy', allow_pickle=True)"
      ],
      "metadata": {
        "id": "KsSQ_vFOekmz"
      },
      "execution_count": 28,
      "outputs": []
    },
    {
      "cell_type": "code",
      "source": [
        "# load word dict\n",
        "word_dict = json.load(open('word_dict.json', 'r'))\n",
        "word_to_idx = {k:idx for idx, k in enumerate(word_dict)}\n",
        "idx_to_word = {word_to_idx[k]:k for k in word_to_idx}"
      ],
      "metadata": {
        "id": "J77sdRuve2-M"
      },
      "execution_count": 29,
      "outputs": []
    },
    {
      "cell_type": "code",
      "source": [
        "# Xây dựng hàm lấy ra vector biểu diễn nhúng\n",
        "max_seq_len = 100 # độ dài câu tối đa\n",
        "dim_vector = 400\n",
        "def get_word_embedding_vector(input_seq, word_to_idx, w2v_matrix):\n",
        "    '''\n",
        "    Đầu vào\n",
        "        input_seq: chuỗi đầu vào\n",
        "        word_to_idx: từ điển chuyển từ word -> idx\n",
        "        w2v_matrix: ma trận vector nhúng\n",
        "    Đầu ra:\n",
        "        word_embedding_vector: vecto nhúng của chuỗi đầu vào\n",
        "    '''\n",
        "    input_seq_split = input_seq.split(' ')\n",
        "    seq_to_ids = []\n",
        "    for seq in input_seq_split:\n",
        "        if seq in word_to_idx:\n",
        "            seq_to_ids.append(word_to_idx[seq])\n",
        "        else:\n",
        "            seq_to_ids.append(word_to_idx['unknown'])\n",
        "    word_embedding_vector = w2v_matrix[seq_to_ids]\n",
        "    pad_vector = np.zeros((max_seq_len - len(seq_to_ids), dim_vector))\n",
        "    word_embedding_vector = np.concatenate((word_embedding_vector, pad_vector), 0)\n",
        "    return word_embedding_vector"
      ],
      "metadata": {
        "id": "CknHHnXVfA8D"
      },
      "execution_count": 30,
      "outputs": []
    },
    {
      "cell_type": "code",
      "source": [
        "from scipy.spatial import distance\n",
        "def return_best_idx_by_w2v_and_euclid_distance(input_seq, corpus):\n",
        "    '''\n",
        "    Đầu vào:\n",
        "        input_seq: chuỗi văn bản đầu vào.\n",
        "        corpus: tập dữ liệu câu hỏi D.\n",
        "    Đầu ra:\n",
        "        best_match_idx: vị trí câu có điểm BLEU cao nhất so với chuỗi đầu vào.\n",
        "    '''\n",
        "    thresholds = []\n",
        "    wv_input_sentence = get_word_embedding_vector(input_seq, word_to_idx, w2v_matrix)\n",
        "    for seq in corpus:\n",
        "        wv_seq = get_word_embedding_vector(seq, word_to_idx, w2v_matrix)\n",
        "        score = distance.euclidean(wv_input_sentence.reshape(-1,1), wv_seq.reshape(-1,1))\n",
        "        thresholds.append(score)\n",
        "        \n",
        "    best_match_idx = np.argmin(thresholds)\n",
        "    return thresholds, best_match_idx"
      ],
      "metadata": {
        "id": "9uo9XsuUhcKT"
      },
      "execution_count": 31,
      "outputs": []
    },
    {
      "cell_type": "code",
      "source": [
        "while 1:\n",
        "    print('Nhập câu hỏi:')\n",
        "    input_seq = input()\n",
        "    input_seq = remove_punc(input_seq)\n",
        "    thresholds, best_idx = return_best_idx_by_w2v_and_euclid_distance(input_seq, normalized_user_a)\n",
        "    answer = user_b[best_idx]\n",
        "    print('Câu trả lời:', answer)"
      ],
      "metadata": {
        "id": "HdLrs16GgGGS",
        "colab": {
          "base_uri": "https://localhost:8080/"
        },
        "outputId": "fc0da495-780a-4ea9-e836-a06b47c63ed0"
      },
      "execution_count": null,
      "outputs": [
        {
          "output_type": "stream",
          "name": "stdout",
          "text": [
            "Nhập câu hỏi:\n",
            "Tên gì\n",
            "Câu trả lời: Lan Anh.\n",
            "Nhập câu hỏi:\n"
          ]
        }
      ]
    }
  ]
}